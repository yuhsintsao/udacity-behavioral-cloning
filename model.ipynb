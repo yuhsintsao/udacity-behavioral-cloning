{
 "cells": [
  {
   "cell_type": "markdown",
   "metadata": {},
   "source": [
    "# **Behavioral Cloning** \n",
    "## Autonomous Mode Display"
   ]
  },
  {
   "cell_type": "code",
   "execution_count": 1,
   "metadata": {},
   "outputs": [
    {
     "data": {
      "text/html": [
       "\n",
       "<video width=\"600\" height=\"200\" controls>\n",
       "  <source src=\"run_best.mp4\">\n",
       "</video>\n"
      ],
      "text/plain": [
       "<IPython.core.display.HTML object>"
      ]
     },
     "execution_count": 1,
     "metadata": {},
     "output_type": "execute_result"
    }
   ],
   "source": [
    "from IPython.display import HTML\n",
    "HTML(\"\"\"\n",
    "<video width=\"600\" height=\"200\" controls>\n",
    "  <source src=\"{0}\">\n",
    "</video>\n",
    "\"\"\".format('run_best.mp4'))"
   ]
  },
  {
   "cell_type": "markdown",
   "metadata": {},
   "source": [
    "## Data Collection"
   ]
  },
  {
   "cell_type": "code",
   "execution_count": 1,
   "metadata": {
    "collapsed": true
   },
   "outputs": [],
   "source": [
    "import csv\n",
    "import cv2\n",
    "import numpy as np\n",
    "\n",
    "#lines = []\n",
    "car_images, steering_angles = [], []\n",
    "test = []\n",
    "\n",
    "with open('data/driving_log.csv', 'r') as csvfile:\n",
    "    reader = csv.reader(csvfile)\n",
    "    next(reader, None) # skip the column names\n",
    "    \n",
    "    for row in reader:\n",
    "        steering_center = float(row[3])   \n",
    "\n",
    "        # Create adjusted steering measurements for the side camera images\n",
    "        correction = 0.2 # required tuning      \n",
    "        steering_left = steering_center + correction\n",
    "        steering_right = steering_center - correction      \n",
    "\n",
    "        # Read in images from center, left, and right cameras\n",
    "        path = 'data/'\n",
    "        img_center = cv2.imread(path + row[0].strip())\n",
    "        img_left = cv2.imread(path + row[1].strip()) \n",
    "        img_right = cv2.imread(path + row[2].strip())   \n",
    "\n",
    "        # Add images and angles to the data set\n",
    "        car_images.extend([img_center, img_left, img_right])\n",
    "        test.append(img_center)\n",
    "        test.append(img_left)\n",
    "        steering_angles.extend([steering_center, steering_left, steering_right])"
   ]
  },
  {
   "cell_type": "code",
   "execution_count": 2,
   "metadata": {
    "collapsed": true
   },
   "outputs": [],
   "source": [
    "# Data augmentation\n",
    "augmented_images, augmented_angles = [], []\n",
    "for image, angle in zip(car_images, steering_angles):\n",
    "    augmented_images.append(image)\n",
    "    augmented_angles.append(angle)\n",
    "    augmented_images.append(np.fliplr(image))\n",
    "    augmented_angles.append(-angle)\n",
    "    \n",
    "X_samples = np.array(augmented_images)\n",
    "y_samples = np.array(augmented_angles)"
   ]
  },
  {
   "cell_type": "code",
   "execution_count": 3,
   "metadata": {
    "collapsed": true
   },
   "outputs": [],
   "source": [
    "# Shuffle the data\n",
    "from sklearn.model_selection import train_test_split\n",
    "X_train_samples, X_valid_samples, y_train_samples, y_valid_samples = train_test_split(X_samples, y_samples, test_size=0.2, random_state=42)"
   ]
  },
  {
   "cell_type": "markdown",
   "metadata": {},
   "source": [
    "## Model Design"
   ]
  },
  {
   "cell_type": "code",
   "execution_count": 4,
   "metadata": {},
   "outputs": [
    {
     "name": "stderr",
     "output_type": "stream",
     "text": [
      "Using TensorFlow backend.\n"
     ]
    },
    {
     "name": "stdout",
     "output_type": "stream",
     "text": [
      "Epoch 1/3\n",
      "38572/38572 [==============================] - 925s - loss: 0.0200 - val_loss: 0.0173\n",
      "Epoch 2/3\n",
      "38572/38572 [==============================] - 816s - loss: 0.0166 - val_loss: 0.0160\n",
      "Epoch 3/3\n",
      "38572/38572 [==============================] - 808s - loss: 0.0157 - val_loss: 0.0151\n",
      "dict_keys(['val_loss', 'loss'])\n"
     ]
    },
    {
     "data": {
      "text/plain": [
       "<matplotlib.figure.Figure at 0x576cdd5f8>"
      ]
     },
     "metadata": {},
     "output_type": "display_data"
    }
   ],
   "source": [
    "import numpy as np\n",
    "import sklearn\n",
    "\n",
    "batch_size = 48\n",
    "\n",
    "def generator(X_samples, y_samples, batch_size=batch_size):\n",
    "    num_samples = len(y_samples)\n",
    "    while 1: # Loop forever so the generator never terminates\n",
    "        sklearn.utils.shuffle(X_samples, y_samples)\n",
    "        for offset in range(0, num_samples, batch_size):\n",
    "            X_batch = np.array(X_samples[offset:offset+batch_size])\n",
    "            y_batch = np.array(y_samples[offset:offset+batch_size])\n",
    "            yield (X_batch, y_batch)\n",
    "\n",
    "# Load the trained model            \n",
    "#from keras.models import load_model\n",
    "#model = load_model('model_best.h5')\n",
    "\n",
    "from keras.models import Sequential, Model\n",
    "from keras.layers import Flatten, Dense, Lambda, Convolution2D, Cropping2D, Dropout\n",
    "from keras.layers.pooling import MaxPooling2D\n",
    "\n",
    "model = Sequential() # create a new model\n",
    "model.add(Lambda(lambda x: (x / 255.0) - 0.5, input_shape=(160, 320, 3)))\n",
    "model.add(Cropping2D(cropping=((70, 25), (0, 0)), input_shape=(3, 160, 320)))\n",
    "model.add(Convolution2D(24, 5, 5, subsample=(2, 2), activation='relu'))\n",
    "model.add(Convolution2D(36, 5, 5, subsample=(2, 2), activation='relu'))\n",
    "model.add(Convolution2D(48, 5, 5, activation='relu')) # adjustment made\n",
    "model.add(Convolution2D(64, 3, 3, activation='relu'))\n",
    "model.add(Convolution2D(64, 3, 3, activation='relu')) # adjustment made\n",
    "model.add(MaxPooling2D()) # adjustment made\n",
    "model.add(Flatten())\n",
    "model.add(Dense(100))\n",
    "model.add(Dropout(0.5)) # adjustment made\n",
    "model.add(Dense(50))\n",
    "model.add(Dense(10))\n",
    "model.add(Dense(1))\n",
    "\n",
    "# Compile and train the model using the generator function\n",
    "train_generator = generator(X_train_samples, y_train_samples, batch_size=batch_size)\n",
    "validation_generator = generator(X_valid_samples, y_valid_samples, batch_size=batch_size)\n",
    "\n",
    "model.compile(loss='mse', optimizer='adam')\n",
    "history_object = model.fit_generator(train_generator, samples_per_epoch=len(X_train_samples),\n",
    "                    validation_data=validation_generator, nb_val_samples=len(X_valid_samples),\n",
    "                    nb_epoch=3, verbose=1)\n",
    "\n",
    "import matplotlib.pyplot as plt\n",
    "\n",
    "### Print the keys contained in the history object\n",
    "print(history_object.history.keys())\n",
    "\n",
    "### Plot the training and validation loss for each epoch\n",
    "plt.plot(history_object.history['loss'])\n",
    "plt.plot(history_object.history['val_loss'])\n",
    "plt.title('model mean squared error loss')\n",
    "plt.ylabel('mean squared error loss')\n",
    "plt.xlabel('epoch')\n",
    "plt.legend(['training set', 'validation set'], loc='upper right')\n",
    "plt.show()"
   ]
  },
  {
   "cell_type": "code",
   "execution_count": 6,
   "metadata": {
    "collapsed": true
   },
   "outputs": [],
   "source": [
    "# The very first model output without any adjustment to the original setting\n",
    "#model.save('model.h5') # batch size =32\n",
    "#exit()"
   ]
  },
  {
   "cell_type": "code",
   "execution_count": null,
   "metadata": {
    "collapsed": true
   },
   "outputs": [],
   "source": [
    "model.save('model_best.h5') # model updated with new data\n",
    "exit()"
   ]
  },
  {
   "cell_type": "markdown",
   "metadata": {},
   "source": [
    "## Flip Image"
   ]
  },
  {
   "cell_type": "code",
   "execution_count": 14,
   "metadata": {},
   "outputs": [
    {
     "data": {
      "text/plain": [
       "True"
      ]
     },
     "execution_count": 14,
     "metadata": {},
     "output_type": "execute_result"
    }
   ],
   "source": [
    "# flip imager\n",
    "import cv2\n",
    "import numpy as np\n",
    "path = 'examples/'\n",
    "image = cv2.imread(path + 'center.jpg')\n",
    "image_flip = np.fliplr(image)\n",
    "cv2.imwrite(path + 'center_flip.jpg', image_flip)"
   ]
  },
  {
   "cell_type": "markdown",
   "metadata": {},
   "source": [
    "## Video Output\n",
    "\n",
    "Execute the commands below in the terminal:\n",
    "\n",
    "<font color='blue'>python drive.py model_best.h5 run_best</font><br/>\n",
    "\n",
    "<font color='blue'>python video.py run_best --fps 48</font>"
   ]
  }
 ],
 "metadata": {
  "kernelspec": {
   "display_name": "Python [default]",
   "language": "python",
   "name": "python3"
  },
  "language_info": {
   "codemirror_mode": {
    "name": "ipython",
    "version": 3
   },
   "file_extension": ".py",
   "mimetype": "text/x-python",
   "name": "python",
   "nbconvert_exporter": "python",
   "pygments_lexer": "ipython3",
   "version": "3.6.3"
  },
  "widgets": {
   "state": {},
   "version": "1.1.2"
  }
 },
 "nbformat": 4,
 "nbformat_minor": 2
}
